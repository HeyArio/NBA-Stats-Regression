{
 "cells": [
  {
   "cell_type": "code",
   "execution_count": 1,
   "id": "88594547",
   "metadata": {},
   "outputs": [],
   "source": [
    "import pandas as pd\n",
    "import numpy as np\n",
    "%matplotlib inline\n",
    "import matplotlib.pyplot as plt\n",
    "import seaborn as sns\n",
    "from sklearn.ensemble import RandomForestRegressor\n",
    "from sklearn.linear_model import Ridge\n",
    "from sklearn.svm import SVR\n",
    "from sklearn.model_selection import RandomizedSearchCV\n",
    "import warnings\n",
    "warnings.filterwarnings('ignore')"
   ]
  },
  {
   "cell_type": "code",
   "execution_count": 192,
   "id": "a0f1a056",
   "metadata": {},
   "outputs": [
    {
     "data": {
      "text/html": [
       "<div>\n",
       "<style scoped>\n",
       "    .dataframe tbody tr th:only-of-type {\n",
       "        vertical-align: middle;\n",
       "    }\n",
       "\n",
       "    .dataframe tbody tr th {\n",
       "        vertical-align: top;\n",
       "    }\n",
       "\n",
       "    .dataframe thead th {\n",
       "        text-align: right;\n",
       "    }\n",
       "</style>\n",
       "<table border=\"1\" class=\"dataframe\">\n",
       "  <thead>\n",
       "    <tr style=\"text-align: right;\">\n",
       "      <th></th>\n",
       "      <th>Unnamed: 0</th>\n",
       "      <th>player_name</th>\n",
       "      <th>team_abbreviation</th>\n",
       "      <th>age</th>\n",
       "      <th>player_height</th>\n",
       "      <th>player_weight</th>\n",
       "      <th>college</th>\n",
       "      <th>country</th>\n",
       "      <th>draft_year</th>\n",
       "      <th>draft_round</th>\n",
       "      <th>...</th>\n",
       "      <th>pts</th>\n",
       "      <th>reb</th>\n",
       "      <th>ast</th>\n",
       "      <th>net_rating</th>\n",
       "      <th>oreb_pct</th>\n",
       "      <th>dreb_pct</th>\n",
       "      <th>usg_pct</th>\n",
       "      <th>ts_pct</th>\n",
       "      <th>ast_pct</th>\n",
       "      <th>season</th>\n",
       "    </tr>\n",
       "  </thead>\n",
       "  <tbody>\n",
       "    <tr>\n",
       "      <th>0</th>\n",
       "      <td>0</td>\n",
       "      <td>Travis Knight</td>\n",
       "      <td>LAL</td>\n",
       "      <td>22.0</td>\n",
       "      <td>213.36</td>\n",
       "      <td>106.59412</td>\n",
       "      <td>Connecticut</td>\n",
       "      <td>USA</td>\n",
       "      <td>1996</td>\n",
       "      <td>1</td>\n",
       "      <td>...</td>\n",
       "      <td>4.8</td>\n",
       "      <td>4.5</td>\n",
       "      <td>0.5</td>\n",
       "      <td>6.2</td>\n",
       "      <td>0.127</td>\n",
       "      <td>0.182</td>\n",
       "      <td>0.142</td>\n",
       "      <td>0.536</td>\n",
       "      <td>0.052</td>\n",
       "      <td>1996-97</td>\n",
       "    </tr>\n",
       "    <tr>\n",
       "      <th>1</th>\n",
       "      <td>1</td>\n",
       "      <td>Matt Fish</td>\n",
       "      <td>MIA</td>\n",
       "      <td>27.0</td>\n",
       "      <td>210.82</td>\n",
       "      <td>106.59412</td>\n",
       "      <td>North Carolina-Wilmington</td>\n",
       "      <td>USA</td>\n",
       "      <td>1992</td>\n",
       "      <td>2</td>\n",
       "      <td>...</td>\n",
       "      <td>0.3</td>\n",
       "      <td>0.8</td>\n",
       "      <td>0.0</td>\n",
       "      <td>-15.1</td>\n",
       "      <td>0.143</td>\n",
       "      <td>0.267</td>\n",
       "      <td>0.265</td>\n",
       "      <td>0.333</td>\n",
       "      <td>0.000</td>\n",
       "      <td>1996-97</td>\n",
       "    </tr>\n",
       "    <tr>\n",
       "      <th>2</th>\n",
       "      <td>2</td>\n",
       "      <td>Matt Bullard</td>\n",
       "      <td>HOU</td>\n",
       "      <td>30.0</td>\n",
       "      <td>208.28</td>\n",
       "      <td>106.59412</td>\n",
       "      <td>Iowa</td>\n",
       "      <td>USA</td>\n",
       "      <td>Undrafted</td>\n",
       "      <td>Undrafted</td>\n",
       "      <td>...</td>\n",
       "      <td>4.5</td>\n",
       "      <td>1.6</td>\n",
       "      <td>0.9</td>\n",
       "      <td>0.9</td>\n",
       "      <td>0.016</td>\n",
       "      <td>0.115</td>\n",
       "      <td>0.151</td>\n",
       "      <td>0.535</td>\n",
       "      <td>0.099</td>\n",
       "      <td>1996-97</td>\n",
       "    </tr>\n",
       "    <tr>\n",
       "      <th>3</th>\n",
       "      <td>3</td>\n",
       "      <td>Marty Conlon</td>\n",
       "      <td>BOS</td>\n",
       "      <td>29.0</td>\n",
       "      <td>210.82</td>\n",
       "      <td>111.13004</td>\n",
       "      <td>Providence</td>\n",
       "      <td>USA</td>\n",
       "      <td>Undrafted</td>\n",
       "      <td>Undrafted</td>\n",
       "      <td>...</td>\n",
       "      <td>7.8</td>\n",
       "      <td>4.4</td>\n",
       "      <td>1.4</td>\n",
       "      <td>-9.0</td>\n",
       "      <td>0.083</td>\n",
       "      <td>0.152</td>\n",
       "      <td>0.167</td>\n",
       "      <td>0.542</td>\n",
       "      <td>0.101</td>\n",
       "      <td>1996-97</td>\n",
       "    </tr>\n",
       "    <tr>\n",
       "      <th>4</th>\n",
       "      <td>4</td>\n",
       "      <td>Martin Muursepp</td>\n",
       "      <td>DAL</td>\n",
       "      <td>22.0</td>\n",
       "      <td>205.74</td>\n",
       "      <td>106.59412</td>\n",
       "      <td>None</td>\n",
       "      <td>USA</td>\n",
       "      <td>1996</td>\n",
       "      <td>1</td>\n",
       "      <td>...</td>\n",
       "      <td>3.7</td>\n",
       "      <td>1.6</td>\n",
       "      <td>0.5</td>\n",
       "      <td>-14.5</td>\n",
       "      <td>0.109</td>\n",
       "      <td>0.118</td>\n",
       "      <td>0.233</td>\n",
       "      <td>0.482</td>\n",
       "      <td>0.114</td>\n",
       "      <td>1996-97</td>\n",
       "    </tr>\n",
       "  </tbody>\n",
       "</table>\n",
       "<p>5 rows × 22 columns</p>\n",
       "</div>"
      ],
      "text/plain": [
       "   Unnamed: 0      player_name team_abbreviation   age  player_height  \\\n",
       "0           0    Travis Knight               LAL  22.0         213.36   \n",
       "1           1        Matt Fish               MIA  27.0         210.82   \n",
       "2           2     Matt Bullard               HOU  30.0         208.28   \n",
       "3           3     Marty Conlon               BOS  29.0         210.82   \n",
       "4           4  Martin Muursepp               DAL  22.0         205.74   \n",
       "\n",
       "   player_weight                    college country draft_year draft_round  \\\n",
       "0      106.59412                Connecticut     USA       1996           1   \n",
       "1      106.59412  North Carolina-Wilmington     USA       1992           2   \n",
       "2      106.59412                       Iowa     USA  Undrafted   Undrafted   \n",
       "3      111.13004                 Providence     USA  Undrafted   Undrafted   \n",
       "4      106.59412                       None     USA       1996           1   \n",
       "\n",
       "   ...  pts  reb  ast  net_rating  oreb_pct  dreb_pct  usg_pct  ts_pct  \\\n",
       "0  ...  4.8  4.5  0.5         6.2     0.127     0.182    0.142   0.536   \n",
       "1  ...  0.3  0.8  0.0       -15.1     0.143     0.267    0.265   0.333   \n",
       "2  ...  4.5  1.6  0.9         0.9     0.016     0.115    0.151   0.535   \n",
       "3  ...  7.8  4.4  1.4        -9.0     0.083     0.152    0.167   0.542   \n",
       "4  ...  3.7  1.6  0.5       -14.5     0.109     0.118    0.233   0.482   \n",
       "\n",
       "   ast_pct   season  \n",
       "0    0.052  1996-97  \n",
       "1    0.000  1996-97  \n",
       "2    0.099  1996-97  \n",
       "3    0.101  1996-97  \n",
       "4    0.114  1996-97  \n",
       "\n",
       "[5 rows x 22 columns]"
      ]
     },
     "execution_count": 192,
     "metadata": {},
     "output_type": "execute_result"
    }
   ],
   "source": [
    "df = pd.read_csv('../data/nba.csv')\n",
    "\n",
    "df.head()"
   ]
  },
  {
   "cell_type": "code",
   "execution_count": 193,
   "id": "0e955e3f",
   "metadata": {},
   "outputs": [],
   "source": [
    "df.drop('Unnamed: 0', axis=1, inplace=True)"
   ]
  },
  {
   "cell_type": "code",
   "execution_count": 177,
   "id": "2035744a",
   "metadata": {},
   "outputs": [
    {
     "data": {
      "text/plain": [
       "0        1996-97\n",
       "1        1996-97\n",
       "2        1996-97\n",
       "3        1996-97\n",
       "4        1996-97\n",
       "          ...   \n",
       "11695    2020-21\n",
       "11696    2020-21\n",
       "11697    2020-21\n",
       "11698    2020-21\n",
       "11699    2020-21\n",
       "Name: season, Length: 11700, dtype: object"
      ]
     },
     "execution_count": 177,
     "metadata": {},
     "output_type": "execute_result"
    }
   ],
   "source": [
    "df.season"
   ]
  },
  {
   "cell_type": "markdown",
   "id": "d8dee108",
   "metadata": {},
   "source": [
    "# EDA"
   ]
  },
  {
   "cell_type": "code",
   "execution_count": 11,
   "id": "b76f90e7",
   "metadata": {},
   "outputs": [],
   "source": [
    "def show_top_n_by_stat_and_season(n, stat, season):\n",
    "    players = df[df.season == season]\n",
    "    players = players.sort_values(stat, ascending=False)\n",
    "    players = players[:n]\n",
    "    plot = sns.barplot(x=stat, y='player_name', data=players, order=players.sort_values(stat).player_name, palette='Pastel1')\n",
    "    plot.set(ylabel='Players', xticks=range(0, int(np.max(players[stat])), 2))\n",
    "    plt.show()"
   ]
  },
  {
   "cell_type": "code",
   "execution_count": 98,
   "id": "7f2d8073",
   "metadata": {},
   "outputs": [
    {
     "data": {
      "image/png": "[encoded data removed]",
      "text/plain": [
       "<Figure size 432x288 with 1 Axes>"
      ]
     },
     "metadata": {
      "needs_background": "light"
     },
     "output_type": "display_data"
    }
   ],
   "source": [
    "show_top_n_by_stat_and_season(15, 'pts', '2007-08')"
   ]
  },
  {
   "cell_type": "code",
   "execution_count": 36,
   "id": "f749f7e8",
   "metadata": {},
   "outputs": [],
   "source": [
    "def plot_team_season_stat(team_abbv, season):\n",
    "    team = df[df.season == season]\n",
    "    team = team[team['team_abbreviation'] == team_abbv]\n",
    "    fig, ax = plt.subplots(figsize=(10, 6))\n",
    "    ax = sns.barplot(x='pts', y='player_name', data=team, order=team.sort_values('pts').player_name, color='indianred',\n",
    "                      label='Points')\n",
    "    ax = sns.barplot(x='ast', y='player_name', data=team, order=team.sort_values('pts').player_name, color='dimgrey',\n",
    "                      label='Assists')\n",
    "    ax.set(ylabel='Players', xticks=range(0, int(np.max(team.pts)), 2), xlim=(0, 30))\n",
    "    ax.legend(frameon=False)\n",
    "    plt.show()"
   ]
  },
  {
   "cell_type": "code",
   "execution_count": 37,
   "id": "185161bc",
   "metadata": {},
   "outputs": [
    {
     "data": {
      "image/png": "[encoded data removed]",
      "text/plain": [
       "<Figure size 720x432 with 1 Axes>"
      ]
     },
     "metadata": {
      "needs_background": "light"
     },
     "output_type": "display_data"
    }
   ],
   "source": [
    "plot_team_season_stat('GSW', '2016-17')"
   ]
  },
  {
   "cell_type": "code",
   "execution_count": 96,
   "id": "5e1b6502",
   "metadata": {},
   "outputs": [],
   "source": [
    "def show_team_stat_through_years(team):\n",
    "    fig, (ax, ax1, ax2) = plt.subplots(figsize=(10, 12), nrows=3, ncols=1, sharex=True)\n",
    "    \n",
    "    scatter = ax.scatter(df.age[df.team_abbreviation == team],\n",
    "                        df.pts[df.team_abbreviation == team],\n",
    "                        c='indianred')\n",
    "    ax.set(ylabel='Points Per Game', title='PPG')\n",
    "    ax.axhline(df.pts.mean(), linestyle='--', color='dimgrey')\n",
    "    \n",
    "    scatter = ax1.scatter(df.age[df.team_abbreviation == team],\n",
    "                         df.reb[df.team_abbreviation == team],\n",
    "                         c='skyblue')\n",
    "    ax1.set(ylabel='Rebounds Per Game', title='RPG')\n",
    "    ax1.axhline(df.reb.mean(), linestyle='--', color='darkorange')\n",
    "    \n",
    "    scatter = ax2.scatter(df.age[df.team_abbreviation == team],\n",
    "                         df.ast[df.team_abbreviation == team],\n",
    "                         c='darkgreen')\n",
    "    ax2.set(ylabel='Assists Per Game', title='APG')\n",
    "    ax2.axhline(df.ast.mean(), linestyle='--', color='firebrick')\n",
    "    \n",
    "    plt.suptitle(f'{team} stats through from 1996-97 to 2020-21')"
   ]
  },
  {
   "cell_type": "code",
   "execution_count": 97,
   "id": "237cf9d6",
   "metadata": {
    "scrolled": false
   },
   "outputs": [
    {
     "data": {
      "image/png": "[encoded data removed]",
      "text/plain": [
       "<Figure size 720x864 with 3 Axes>"
      ]
     },
     "metadata": {
      "needs_background": "light"
     },
     "output_type": "display_data"
    }
   ],
   "source": [
    "show_team_stat_through_years('LAL')"
   ]
  },
  {
   "cell_type": "markdown",
   "id": "de606ff4",
   "metadata": {},
   "source": [
    "# Preprocess data"
   ]
  },
  {
   "cell_type": "code",
   "execution_count": 178,
   "id": "717b4cf0",
   "metadata": {},
   "outputs": [],
   "source": [
    "def preprocess_data(df):\n",
    "    \n",
    "    for label, content in df.items():\n",
    "        if pd.api.types.is_numeric_dtype(content):\n",
    "            if pd.isnull(content).sum():\n",
    "                df[label] = content.fillna(content.median())\n",
    "    \n",
    "    for label, content in df.items():\n",
    "        if not pd.api.types.is_numeric_dtype(content):\n",
    "            df[label] = pd.Categorical(content).codes+1\n",
    "    \n",
    "    return df"
   ]
  },
  {
   "cell_type": "code",
   "execution_count": 179,
   "id": "4ce275af",
   "metadata": {},
   "outputs": [
    {
     "data": {
      "text/html": [
       "<div>\n",
       "<style scoped>\n",
       "    .dataframe tbody tr th:only-of-type {\n",
       "        vertical-align: middle;\n",
       "    }\n",
       "\n",
       "    .dataframe tbody tr th {\n",
       "        vertical-align: top;\n",
       "    }\n",
       "\n",
       "    .dataframe thead th {\n",
       "        text-align: right;\n",
       "    }\n",
       "</style>\n",
       "<table border=\"1\" class=\"dataframe\">\n",
       "  <thead>\n",
       "    <tr style=\"text-align: right;\">\n",
       "      <th></th>\n",
       "      <th>player_name</th>\n",
       "      <th>team_abbreviation</th>\n",
       "      <th>age</th>\n",
       "      <th>player_height</th>\n",
       "      <th>player_weight</th>\n",
       "      <th>college</th>\n",
       "      <th>country</th>\n",
       "      <th>draft_year</th>\n",
       "      <th>draft_round</th>\n",
       "      <th>draft_number</th>\n",
       "      <th>...</th>\n",
       "      <th>pts</th>\n",
       "      <th>reb</th>\n",
       "      <th>ast</th>\n",
       "      <th>net_rating</th>\n",
       "      <th>oreb_pct</th>\n",
       "      <th>dreb_pct</th>\n",
       "      <th>usg_pct</th>\n",
       "      <th>ts_pct</th>\n",
       "      <th>ast_pct</th>\n",
       "      <th>season</th>\n",
       "    </tr>\n",
       "  </thead>\n",
       "  <tbody>\n",
       "    <tr>\n",
       "      <th>0</th>\n",
       "      <td>2170</td>\n",
       "      <td>15</td>\n",
       "      <td>22.0</td>\n",
       "      <td>213.36</td>\n",
       "      <td>106.59412</td>\n",
       "      <td>62</td>\n",
       "      <td>73</td>\n",
       "      <td>21</td>\n",
       "      <td>2</td>\n",
       "      <td>29</td>\n",
       "      <td>...</td>\n",
       "      <td>4.8</td>\n",
       "      <td>4.5</td>\n",
       "      <td>0.5</td>\n",
       "      <td>6.2</td>\n",
       "      <td>0.127</td>\n",
       "      <td>0.182</td>\n",
       "      <td>0.142</td>\n",
       "      <td>0.536</td>\n",
       "      <td>0.052</td>\n",
       "      <td>1</td>\n",
       "    </tr>\n",
       "    <tr>\n",
       "      <th>1</th>\n",
       "      <td>1545</td>\n",
       "      <td>17</td>\n",
       "      <td>27.0</td>\n",
       "      <td>210.82</td>\n",
       "      <td>106.59412</td>\n",
       "      <td>190</td>\n",
       "      <td>73</td>\n",
       "      <td>17</td>\n",
       "      <td>3</td>\n",
       "      <td>53</td>\n",
       "      <td>...</td>\n",
       "      <td>0.3</td>\n",
       "      <td>0.8</td>\n",
       "      <td>0.0</td>\n",
       "      <td>-15.1</td>\n",
       "      <td>0.143</td>\n",
       "      <td>0.267</td>\n",
       "      <td>0.265</td>\n",
       "      <td>0.333</td>\n",
       "      <td>0.000</td>\n",
       "      <td>1</td>\n",
       "    </tr>\n",
       "    <tr>\n",
       "      <th>2</th>\n",
       "      <td>1542</td>\n",
       "      <td>12</td>\n",
       "      <td>30.0</td>\n",
       "      <td>208.28</td>\n",
       "      <td>106.59412</td>\n",
       "      <td>115</td>\n",
       "      <td>73</td>\n",
       "      <td>46</td>\n",
       "      <td>9</td>\n",
       "      <td>76</td>\n",
       "      <td>...</td>\n",
       "      <td>4.5</td>\n",
       "      <td>1.6</td>\n",
       "      <td>0.9</td>\n",
       "      <td>0.9</td>\n",
       "      <td>0.016</td>\n",
       "      <td>0.115</td>\n",
       "      <td>0.151</td>\n",
       "      <td>0.535</td>\n",
       "      <td>0.099</td>\n",
       "      <td>1</td>\n",
       "    </tr>\n",
       "    <tr>\n",
       "      <th>3</th>\n",
       "      <td>1532</td>\n",
       "      <td>3</td>\n",
       "      <td>29.0</td>\n",
       "      <td>210.82</td>\n",
       "      <td>111.13004</td>\n",
       "      <td>221</td>\n",
       "      <td>73</td>\n",
       "      <td>46</td>\n",
       "      <td>9</td>\n",
       "      <td>76</td>\n",
       "      <td>...</td>\n",
       "      <td>7.8</td>\n",
       "      <td>4.4</td>\n",
       "      <td>1.4</td>\n",
       "      <td>-9.0</td>\n",
       "      <td>0.083</td>\n",
       "      <td>0.152</td>\n",
       "      <td>0.167</td>\n",
       "      <td>0.542</td>\n",
       "      <td>0.101</td>\n",
       "      <td>1</td>\n",
       "    </tr>\n",
       "    <tr>\n",
       "      <th>4</th>\n",
       "      <td>1531</td>\n",
       "      <td>8</td>\n",
       "      <td>22.0</td>\n",
       "      <td>205.74</td>\n",
       "      <td>106.59412</td>\n",
       "      <td>185</td>\n",
       "      <td>73</td>\n",
       "      <td>21</td>\n",
       "      <td>2</td>\n",
       "      <td>25</td>\n",
       "      <td>...</td>\n",
       "      <td>3.7</td>\n",
       "      <td>1.6</td>\n",
       "      <td>0.5</td>\n",
       "      <td>-14.5</td>\n",
       "      <td>0.109</td>\n",
       "      <td>0.118</td>\n",
       "      <td>0.233</td>\n",
       "      <td>0.482</td>\n",
       "      <td>0.114</td>\n",
       "      <td>1</td>\n",
       "    </tr>\n",
       "  </tbody>\n",
       "</table>\n",
       "<p>5 rows × 21 columns</p>\n",
       "</div>"
      ],
      "text/plain": [
       "   player_name  team_abbreviation   age  player_height  player_weight  \\\n",
       "0         2170                 15  22.0         213.36      106.59412   \n",
       "1         1545                 17  27.0         210.82      106.59412   \n",
       "2         1542                 12  30.0         208.28      106.59412   \n",
       "3         1532                  3  29.0         210.82      111.13004   \n",
       "4         1531                  8  22.0         205.74      106.59412   \n",
       "\n",
       "   college  country  draft_year  draft_round  draft_number  ...  pts  reb  \\\n",
       "0       62       73          21            2            29  ...  4.8  4.5   \n",
       "1      190       73          17            3            53  ...  0.3  0.8   \n",
       "2      115       73          46            9            76  ...  4.5  1.6   \n",
       "3      221       73          46            9            76  ...  7.8  4.4   \n",
       "4      185       73          21            2            25  ...  3.7  1.6   \n",
       "\n",
       "   ast  net_rating  oreb_pct  dreb_pct  usg_pct  ts_pct  ast_pct  season  \n",
       "0  0.5         6.2     0.127     0.182    0.142   0.536    0.052       1  \n",
       "1  0.0       -15.1     0.143     0.267    0.265   0.333    0.000       1  \n",
       "2  0.9         0.9     0.016     0.115    0.151   0.535    0.099       1  \n",
       "3  1.4        -9.0     0.083     0.152    0.167   0.542    0.101       1  \n",
       "4  0.5       -14.5     0.109     0.118    0.233   0.482    0.114       1  \n",
       "\n",
       "[5 rows x 21 columns]"
      ]
     },
     "execution_count": 179,
     "metadata": {},
     "output_type": "execute_result"
    }
   ],
   "source": [
    "df_tmp = preprocess_data(df)\n",
    "df_tmp.head()"
   ]
  },
  {
   "cell_type": "markdown",
   "id": "873fc533",
   "metadata": {},
   "source": [
    "# Splitting data"
   ]
  },
  {
   "cell_type": "code",
   "execution_count": 194,
   "id": "62ea8deb",
   "metadata": {},
   "outputs": [],
   "source": [
    "df_1996_2010 = df[df.season < '2010-11']\n",
    "df_train = preprocess_data(df_1996_2010)"
   ]
  },
  {
   "cell_type": "code",
   "execution_count": 195,
   "id": "e4d1f8b2",
   "metadata": {},
   "outputs": [],
   "source": [
    "df_2010_2020 = df['2010-11'<= df.season]\n",
    "df_2010_2020 = df_2010_2020[df_2010_2020.season <= '2019-2020']\n",
    "df_valid = preprocess_data(df_2010_2020)"
   ]
  },
  {
   "cell_type": "code",
   "execution_count": 196,
   "id": "c4cbeeb1",
   "metadata": {},
   "outputs": [],
   "source": [
    "df_2020_2021 = df[df.season == '2020-21']\n",
    "df_test = preprocess_data(df_2020_2021)"
   ]
  },
  {
   "cell_type": "code",
   "execution_count": 197,
   "id": "3e7b5087",
   "metadata": {},
   "outputs": [],
   "source": [
    "X_train, y_train = df_train.drop('pts', axis=1), df_train['pts']\n",
    "X_valid, y_valid = df_valid.drop('pts', axis=1), df_valid['pts']\n",
    "X_test, y_test = df_test.drop('pts', axis=1), df_test['pts']"
   ]
  },
  {
   "cell_type": "code",
   "execution_count": 186,
   "id": "804ec821",
   "metadata": {},
   "outputs": [],
   "source": [
    "def split_data(df, stat):\n",
    "    df.drop('Unnamed: 0', axis=1)\n",
    "    df_1996_2010 = df[df.season < '2010-11']\n",
    "    df_train = preprocess_data(df_1996_2010)\n",
    "    df_2010_2020 = df['2010-11'<= df.season]\n",
    "    df_2010_2020 = df_2010_2020[df_2010_2020.season <= '2019-2020']\n",
    "    df_valid = preprocess_data(df_2010_2020)\n",
    "    df_2020_2021 = df[df.season == '2020-21']\n",
    "    df_test = preprocess_data(df_2020_2021)\n",
    "    X_train, y_train = df_train.drop(stat, axis=1), df_train[stat]\n",
    "    X_valid, y_valid = df_valid.drop(stat, axis=1), df_valid[stat]\n",
    "    X_test, y_test = df_test.drop(stat, axis=1), df_test[stat]\n",
    "    data = {\n",
    "        'X_train':X_train,\n",
    "        'y_train':y_train,\n",
    "        'X_valid':X_valid,\n",
    "        'y_valid':y_valid,\n",
    "        'X_test':X_test,\n",
    "        'y_test':y_test\n",
    "    }\n",
    "    return data"
   ]
  },
  {
   "cell_type": "markdown",
   "id": "8c68a20e",
   "metadata": {},
   "source": [
    "# Evaluation function"
   ]
  },
  {
   "cell_type": "code",
   "execution_count": 201,
   "id": "c8041191",
   "metadata": {},
   "outputs": [
    {
     "data": {
      "text/plain": [
       "RandomForestRegressor()"
      ]
     },
     "execution_count": 201,
     "metadata": {},
     "output_type": "execute_result"
    }
   ],
   "source": [
    "model = RandomForestRegressor()\n",
    "model.fit(X_train, y_train)"
   ]
  },
  {
   "cell_type": "code",
   "execution_count": 205,
   "id": "9520d598",
   "metadata": {},
   "outputs": [
    {
     "data": {
      "text/plain": [
       "{'RandomForestRegressor': 0.9955231259866079,\n",
       " 'SVR': 0.18270313516773884,\n",
       " 'Ridge': 0.8755873936146371}"
      ]
     },
     "execution_count": 205,
     "metadata": {},
     "output_type": "execute_result"
    }
   ],
   "source": [
    "models = {\n",
    "    'RandomForestRegressor':RandomForestRegressor(),\n",
    "    'SVR':SVR(),\n",
    "    'Ridge':Ridge()\n",
    "}\n",
    "\n",
    "results = {}\n",
    "\n",
    "for name, model in models.items():\n",
    "    model.fit(df_tmp.drop('pts', axis=1), df_tmp['pts'])\n",
    "    results[name] = model.score(df_tmp.drop('pts', axis=1), df_tmp['pts'])\n",
    "\n",
    "results"
   ]
  },
  {
   "cell_type": "code",
   "execution_count": 202,
   "id": "d4e86273",
   "metadata": {},
   "outputs": [],
   "source": [
    "from sklearn.metrics import r2_score, mean_absolute_error,mean_squared_error\n",
    "\n",
    "def rmse(y_true, y_preds):\n",
    "    return np.sqrt(mean_squared_error(y_true, y_preds))\n",
    "\n",
    "def show_scores(model):\n",
    "    train_preds = model.predict(X_train)\n",
    "    valid_preds = model.predict(X_valid)\n",
    "    scores = {\n",
    "        'Training MAE':mean_absolute_error(y_train, train_preds),\n",
    "        'Valid MAE':mean_absolute_error(y_valid, valid_preds),\n",
    "        'Training RMSE':rmse(y_train, train_preds),\n",
    "        'Valid RMSE':rmse(y_valid, valid_preds),\n",
    "        'Training R2':r2_score(y_train, train_preds),\n",
    "        'Valid R2':r2_score(y_valid, valid_preds)\n",
    "    }\n",
    "    \n",
    "    return scores"
   ]
  },
  {
   "cell_type": "code",
   "execution_count": 203,
   "id": "c79a0382",
   "metadata": {},
   "outputs": [
    {
     "data": {
      "text/plain": [
       "{'Training MAE': 0.28678991326694525,\n",
       " 'Valid MAE': 0.9297938792055126,\n",
       " 'Training RMSE': 0.41754948501724026,\n",
       " 'Valid RMSE': 1.3684158543164238,\n",
       " 'Training R2': 0.9951441853484783,\n",
       " 'Valid R2': 0.9451105007647616}"
      ]
     },
     "execution_count": 203,
     "metadata": {},
     "output_type": "execute_result"
    }
   ],
   "source": [
    "show_scores(model)"
   ]
  },
  {
   "cell_type": "markdown",
   "id": "739f6520",
   "metadata": {},
   "source": [
    "# Hyperparameter tuning"
   ]
  },
  {
   "cell_type": "code",
   "execution_count": 206,
   "id": "8ceb5412",
   "metadata": {},
   "outputs": [
    {
     "name": "stdout",
     "output_type": "stream",
     "text": [
      "Fitting 5 folds for each of 20 candidates, totalling 100 fits\n",
      "Wall time: 11min 25s\n"
     ]
    },
    {
     "data": {
      "text/plain": [
       "RandomizedSearchCV(cv=5, estimator=RandomForestRegressor(), n_iter=20,\n",
       "                   param_distributions={'max_depth': [None, 3, 5],\n",
       "                                        'max_features': ['auto', 'sqrt',\n",
       "                                                         'log2'],\n",
       "                                        'min_samples_leaf': array([ 1,  3,  5,  7,  9, 11, 13, 15, 17, 19]),\n",
       "                                        'min_samples_split': array([ 2,  4,  6,  8, 10, 12, 14, 16, 18]),\n",
       "                                        'n_estimators': array([100, 200, 300, 400, 500, 600, 700, 800, 900])},\n",
       "                   random_state=23, verbose=True)"
      ]
     },
     "execution_count": 206,
     "metadata": {},
     "output_type": "execute_result"
    }
   ],
   "source": [
    "rf_grid = {\n",
    "    'n_estimators':np.arange(100, 1000, 100),\n",
    "    'max_depth':[None, 3, 5],\n",
    "    'max_features':['auto', 'sqrt', 'log2'],\n",
    "    'min_samples_split':np.arange(2, 20, 2),\n",
    "    'min_samples_leaf':np.arange(1, 20, 2)\n",
    "}\n",
    "\n",
    "rs_model = RandomizedSearchCV(RandomForestRegressor(),\n",
    "                             param_distributions=rf_grid,\n",
    "                             n_iter=20,\n",
    "                             cv=5,\n",
    "                             verbose=True,\n",
    "                             random_state=23)\n",
    "\n",
    "%time rs_model.fit(X_train, y_train)"
   ]
  },
  {
   "cell_type": "code",
   "execution_count": 207,
   "id": "4982f0d1",
   "metadata": {},
   "outputs": [
    {
     "data": {
      "text/plain": [
       "{'n_estimators': 400,\n",
       " 'min_samples_split': 10,\n",
       " 'min_samples_leaf': 1,\n",
       " 'max_features': 'auto',\n",
       " 'max_depth': None}"
      ]
     },
     "execution_count": 207,
     "metadata": {},
     "output_type": "execute_result"
    }
   ],
   "source": [
    "rs_model.best_params_"
   ]
  },
  {
   "cell_type": "code",
   "execution_count": 208,
   "id": "78a2d668",
   "metadata": {},
   "outputs": [
    {
     "data": {
      "text/plain": [
       "{'Training MAE': 0.4075416938024865,\n",
       " 'Valid MAE': 0.9509653126373319,\n",
       " 'Training RMSE': 0.5978549279281609,\n",
       " 'Valid RMSE': 1.4024203635441892,\n",
       " 'Training R2': 0.9900450788810645,\n",
       " 'Valid R2': 0.9423486485171841}"
      ]
     },
     "execution_count": 208,
     "metadata": {},
     "output_type": "execute_result"
    }
   ],
   "source": [
    "show_scores(rs_model)"
   ]
  },
  {
   "cell_type": "code",
   "execution_count": 209,
   "id": "a39d3b80",
   "metadata": {},
   "outputs": [
    {
     "data": {
      "text/plain": [
       "RandomForestRegressor(min_samples_split=10, n_estimators=400)"
      ]
     },
     "execution_count": 209,
     "metadata": {},
     "output_type": "execute_result"
    }
   ],
   "source": [
    "ideal_model = RandomForestRegressor(n_estimators=400,\n",
    "                                   min_samples_leaf=1,\n",
    "                                   min_samples_split=10,\n",
    "                                   max_depth=None,\n",
    "                                   max_features='auto')\n",
    "ideal_model.fit(X_train, y_train)"
   ]
  },
  {
   "cell_type": "code",
   "execution_count": 224,
   "id": "34379e86",
   "metadata": {},
   "outputs": [
    {
     "data": {
      "text/plain": [
       "{'Training MAE': 0.4060845307229065,\n",
       " 'Valid MAE': 0.9490718892924328,\n",
       " 'Training RMSE': 0.5958486677857189,\n",
       " 'Valid RMSE': 1.3965880818582186,\n",
       " 'Training R2': 0.9901117795122671,\n",
       " 'Valid R2': 0.9428271637575725}"
      ]
     },
     "execution_count": 224,
     "metadata": {},
     "output_type": "execute_result"
    }
   ],
   "source": [
    "show_scores(ideal_model)"
   ]
  },
  {
   "cell_type": "markdown",
   "id": "fbcce7d1",
   "metadata": {},
   "source": [
    "# Making predictions on test data"
   ]
  },
  {
   "cell_type": "code",
   "execution_count": 212,
   "id": "dc144eef",
   "metadata": {},
   "outputs": [],
   "source": [
    "test_preds = ideal_model.predict(X_test)"
   ]
  },
  {
   "cell_type": "code",
   "execution_count": 215,
   "id": "6e7307f7",
   "metadata": {
    "scrolled": false
   },
   "outputs": [
    {
     "data": {
      "text/plain": [
       "array([ 5.87468037, 23.28047981,  2.2942005 , 25.69450173,  4.75588754,\n",
       "        7.26093878,  5.90750453,  9.9217933 ,  7.56722979,  2.87079822])"
      ]
     },
     "execution_count": 215,
     "metadata": {},
     "output_type": "execute_result"
    }
   ],
   "source": [
    "test_preds[:10]"
   ]
  },
  {
   "cell_type": "code",
   "execution_count": 220,
   "id": "d74a01a8",
   "metadata": {},
   "outputs": [
    {
     "data": {
      "text/html": [
       "<div>\n",
       "<style scoped>\n",
       "    .dataframe tbody tr th:only-of-type {\n",
       "        vertical-align: middle;\n",
       "    }\n",
       "\n",
       "    .dataframe tbody tr th {\n",
       "        vertical-align: top;\n",
       "    }\n",
       "\n",
       "    .dataframe thead th {\n",
       "        text-align: right;\n",
       "    }\n",
       "</style>\n",
       "<table border=\"1\" class=\"dataframe\">\n",
       "  <thead>\n",
       "    <tr style=\"text-align: right;\">\n",
       "      <th></th>\n",
       "      <th>player_name</th>\n",
       "      <th>points</th>\n",
       "    </tr>\n",
       "  </thead>\n",
       "  <tbody>\n",
       "    <tr>\n",
       "      <th>11160</th>\n",
       "      <td>Yogi Ferrell</td>\n",
       "      <td>5.874680</td>\n",
       "    </tr>\n",
       "    <tr>\n",
       "      <th>11161</th>\n",
       "      <td>Zion Williamson</td>\n",
       "      <td>23.280480</td>\n",
       "    </tr>\n",
       "    <tr>\n",
       "      <th>11162</th>\n",
       "      <td>Zeke Nnaji</td>\n",
       "      <td>2.294201</td>\n",
       "    </tr>\n",
       "    <tr>\n",
       "      <th>11163</th>\n",
       "      <td>Zach LaVine</td>\n",
       "      <td>25.694502</td>\n",
       "    </tr>\n",
       "    <tr>\n",
       "      <th>11164</th>\n",
       "      <td>Yuta Watanabe</td>\n",
       "      <td>4.755888</td>\n",
       "    </tr>\n",
       "    <tr>\n",
       "      <th>11165</th>\n",
       "      <td>Xavier Tillman</td>\n",
       "      <td>7.260939</td>\n",
       "    </tr>\n",
       "    <tr>\n",
       "      <th>11166</th>\n",
       "      <td>Willie Cauley-Stein</td>\n",
       "      <td>5.907505</td>\n",
       "    </tr>\n",
       "    <tr>\n",
       "      <th>11167</th>\n",
       "      <td>Frank Kaminsky</td>\n",
       "      <td>9.921793</td>\n",
       "    </tr>\n",
       "    <tr>\n",
       "      <th>11168</th>\n",
       "      <td>Frank Mason</td>\n",
       "      <td>7.567230</td>\n",
       "    </tr>\n",
       "    <tr>\n",
       "      <th>11169</th>\n",
       "      <td>Frank Ntilikina</td>\n",
       "      <td>2.870798</td>\n",
       "    </tr>\n",
       "    <tr>\n",
       "      <th>11170</th>\n",
       "      <td>Fred VanVleet</td>\n",
       "      <td>17.654656</td>\n",
       "    </tr>\n",
       "    <tr>\n",
       "      <th>11171</th>\n",
       "      <td>Freddie Gillespie</td>\n",
       "      <td>5.366213</td>\n",
       "    </tr>\n",
       "    <tr>\n",
       "      <th>11172</th>\n",
       "      <td>Furkan Korkmaz</td>\n",
       "      <td>8.728731</td>\n",
       "    </tr>\n",
       "    <tr>\n",
       "      <th>11173</th>\n",
       "      <td>Gabe Vincent</td>\n",
       "      <td>4.821633</td>\n",
       "    </tr>\n",
       "    <tr>\n",
       "      <th>11174</th>\n",
       "      <td>Gabriel Deck</td>\n",
       "      <td>9.351213</td>\n",
       "    </tr>\n",
       "    <tr>\n",
       "      <th>11175</th>\n",
       "      <td>Garrett Temple</td>\n",
       "      <td>6.744094</td>\n",
       "    </tr>\n",
       "    <tr>\n",
       "      <th>11176</th>\n",
       "      <td>Garrison Mathews</td>\n",
       "      <td>3.017713</td>\n",
       "    </tr>\n",
       "    <tr>\n",
       "      <th>11177</th>\n",
       "      <td>Gary Clark</td>\n",
       "      <td>3.141022</td>\n",
       "    </tr>\n",
       "    <tr>\n",
       "      <th>11178</th>\n",
       "      <td>Gary Harris</td>\n",
       "      <td>8.743926</td>\n",
       "    </tr>\n",
       "    <tr>\n",
       "      <th>11179</th>\n",
       "      <td>Gary Payton II</td>\n",
       "      <td>2.197777</td>\n",
       "    </tr>\n",
       "    <tr>\n",
       "      <th>11180</th>\n",
       "      <td>Gary Trent Jr.</td>\n",
       "      <td>11.022983</td>\n",
       "    </tr>\n",
       "    <tr>\n",
       "      <th>11181</th>\n",
       "      <td>George Hill</td>\n",
       "      <td>8.620828</td>\n",
       "    </tr>\n",
       "    <tr>\n",
       "      <th>11182</th>\n",
       "      <td>Georges Niang</td>\n",
       "      <td>7.767918</td>\n",
       "    </tr>\n",
       "    <tr>\n",
       "      <th>11183</th>\n",
       "      <td>Giannis Antetokounmpo</td>\n",
       "      <td>26.854736</td>\n",
       "    </tr>\n",
       "    <tr>\n",
       "      <th>11184</th>\n",
       "      <td>Glenn Robinson III</td>\n",
       "      <td>5.037907</td>\n",
       "    </tr>\n",
       "    <tr>\n",
       "      <th>11185</th>\n",
       "      <td>Goga Bitadze</td>\n",
       "      <td>5.662338</td>\n",
       "    </tr>\n",
       "    <tr>\n",
       "      <th>11186</th>\n",
       "      <td>Goran Dragic</td>\n",
       "      <td>16.375859</td>\n",
       "    </tr>\n",
       "    <tr>\n",
       "      <th>11187</th>\n",
       "      <td>Gordon Hayward</td>\n",
       "      <td>18.150634</td>\n",
       "    </tr>\n",
       "    <tr>\n",
       "      <th>11188</th>\n",
       "      <td>Gorgui Dieng</td>\n",
       "      <td>6.662016</td>\n",
       "    </tr>\n",
       "    <tr>\n",
       "      <th>11189</th>\n",
       "      <td>Grant Riller</td>\n",
       "      <td>2.242435</td>\n",
       "    </tr>\n",
       "  </tbody>\n",
       "</table>\n",
       "</div>"
      ],
      "text/plain": [
       "                 player_name     points\n",
       "11160           Yogi Ferrell   5.874680\n",
       "11161        Zion Williamson  23.280480\n",
       "11162             Zeke Nnaji   2.294201\n",
       "11163            Zach LaVine  25.694502\n",
       "11164          Yuta Watanabe   4.755888\n",
       "11165         Xavier Tillman   7.260939\n",
       "11166    Willie Cauley-Stein   5.907505\n",
       "11167         Frank Kaminsky   9.921793\n",
       "11168            Frank Mason   7.567230\n",
       "11169        Frank Ntilikina   2.870798\n",
       "11170          Fred VanVleet  17.654656\n",
       "11171      Freddie Gillespie   5.366213\n",
       "11172         Furkan Korkmaz   8.728731\n",
       "11173           Gabe Vincent   4.821633\n",
       "11174           Gabriel Deck   9.351213\n",
       "11175         Garrett Temple   6.744094\n",
       "11176       Garrison Mathews   3.017713\n",
       "11177             Gary Clark   3.141022\n",
       "11178            Gary Harris   8.743926\n",
       "11179         Gary Payton II   2.197777\n",
       "11180         Gary Trent Jr.  11.022983\n",
       "11181            George Hill   8.620828\n",
       "11182          Georges Niang   7.767918\n",
       "11183  Giannis Antetokounmpo  26.854736\n",
       "11184     Glenn Robinson III   5.037907\n",
       "11185           Goga Bitadze   5.662338\n",
       "11186           Goran Dragic  16.375859\n",
       "11187         Gordon Hayward  18.150634\n",
       "11188           Gorgui Dieng   6.662016\n",
       "11189           Grant Riller   2.242435"
      ]
     },
     "execution_count": 220,
     "metadata": {},
     "output_type": "execute_result"
    }
   ],
   "source": [
    "df = pd.read_csv('../data/nba.csv')\n",
    "df_2020_2021 = df[df.season == '2020-21']\n",
    "\n",
    "df_preds = pd.DataFrame()\n",
    "df_preds['player_name'] = df_2020_2021['player_name']\n",
    "df_preds['points'] = test_preds\n",
    "df_preds.head(30)"
   ]
  },
  {
   "cell_type": "code",
   "execution_count": 221,
   "id": "c7511139",
   "metadata": {},
   "outputs": [],
   "source": [
    "df_preds.to_csv('../data/2020-21-PPG-Prediction.csv')"
   ]
  },
  {
   "cell_type": "markdown",
   "id": "983b45cf",
   "metadata": {},
   "source": [
    "# Feature importance"
   ]
  },
  {
   "cell_type": "code",
   "execution_count": 222,
   "id": "68b33263",
   "metadata": {},
   "outputs": [],
   "source": [
    "def plot_feature_importance(col, importance, n=20):\n",
    "    df = pd.DataFrame({'features':col,\n",
    "                 'feature_importance':importance}).sort_values('feature_importance', ascending=False)\n",
    "    fig, ax = plt.subplots(figsize=(10, 6))\n",
    "    ax.barh(df['features'][:20], df['feature_importance'][:20], color='hotpink')\n",
    "    ax.invert_yaxis()\n",
    "    ax.set_xlabel('Importance')\n",
    "    ax.set_ylabel('Features')\n",
    "    ax.set_title('Feature Importances')"
   ]
  },
  {
   "cell_type": "code",
   "execution_count": 223,
   "id": "d56881fd",
   "metadata": {},
   "outputs": [
    {
     "data": {
      "image/png": "[encoded data removed]",
      "text/plain": [
       "<Figure size 720x432 with 1 Axes>"
      ]
     },
     "metadata": {
      "needs_background": "light"
     },
     "output_type": "display_data"
    }
   ],
   "source": [
    "plot_feature_importance(X_train.columns, ideal_model.feature_importances_)"
   ]
  },
  {
   "cell_type": "code",
   "execution_count": null,
   "id": "d29ee07d",
   "metadata": {},
   "outputs": [],
   "source": []
  }
 ],
 "metadata": {
  "kernelspec": {
   "display_name": "Python 3 (ipykernel)",
   "language": "python",
   "name": "python3"
  },
  "language_info": {
   "codemirror_mode": {
    "name": "ipython",
    "version": 3
   },
   "file_extension": ".py",
   "mimetype": "text/x-python",
   "name": "python",
   "nbconvert_exporter": "python",
   "pygments_lexer": "ipython3",
   "version": "3.9.7"
  }
 },
 "nbformat": 4,
 "nbformat_minor": 5
}
